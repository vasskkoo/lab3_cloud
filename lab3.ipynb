{
 "cells": [
  {
   "cell_type": "markdown",
   "metadata": {},
   "source": [
    " 10. Розпізнавання зображень Ейфелевої вежі та Великої Китайської стіни\n",
    "\n",
    " Побудувати 2 нейромережеві моделі машинного навчання для розпізнавання (з мінімальною похибкою тестування) зображень двох класів: Ейфелева вежа (The_Eiffel_Tower) та Велика Китайська стіна (The_Great_Wall_of_China) з бази DomainNet-Quickdraw."
   ]
  },
  {
   "cell_type": "code",
   "execution_count": 11,
   "metadata": {},
   "outputs": [
    {
     "name": "stdout",
     "output_type": "stream",
     "text": [
      "Found 800 images belonging to 2 classes.\n",
      "Found 200 images belonging to 2 classes.\n"
     ]
    }
   ],
   "source": [
    "import tensorflow as tf\n",
    "from tensorflow.keras.models import Sequential\n",
    "from tensorflow.keras.layers import Conv2D, MaxPooling2D, Flatten, Dense\n",
    "from tensorflow.keras.preprocessing.image import ImageDataGenerator\n",
    "from sklearn.metrics import classification_report, confusion_matrix\n",
    "import matplotlib.pyplot as plt\n",
    "import numpy as np\n",
    "import time\n",
    "\n",
    "# 1. Завантаження даних\n",
    "data_gen = ImageDataGenerator(rescale=1./255, validation_split=0.2)\n",
    "train_data = data_gen.flow_from_directory(\n",
    "    '/Users/mac/Desktop/lab3/quickdraw', target_size=(128, 128), batch_size=32, class_mode='categorical', subset='training')\n",
    "test_data = data_gen.flow_from_directory(\n",
    "    '/Users/mac/Desktop/lab3/quickdraw', target_size=(128, 128), batch_size=32, class_mode='categorical', subset='validation')\n",
    "\n",
    "# 2. Побудова моделі\n",
    "model = Sequential([\n",
    "    Conv2D(32, (3, 3), activation='relu', input_shape=(128, 128, 3)),\n",
    "    MaxPooling2D(2, 2),\n",
    "    Conv2D(64, (3, 3), activation='relu'),\n",
    "    MaxPooling2D(2, 2),\n",
    "    Flatten(),\n",
    "    Dense(128, activation='relu'),\n",
    "    Dense(2, activation='softmax')  # 2 класи\n",
    "])\n",
    "\n",
    "model.compile(optimizer='adam', loss='categorical_crossentropy', metrics=['accuracy'])\n",
    "\n",
    "\n"
   ]
  },
  {
   "cell_type": "code",
   "execution_count": 12,
   "metadata": {},
   "outputs": [
    {
     "name": "stdout",
     "output_type": "stream",
     "text": [
      "Epoch 1/5\n",
      "25/25 [==============================] - 18s 650ms/step - loss: 1.4382 - accuracy: 0.6650 - val_loss: 0.2100 - val_accuracy: 0.9350\n",
      "Epoch 2/5\n",
      "25/25 [==============================] - 15s 597ms/step - loss: 0.1082 - accuracy: 0.9600 - val_loss: 0.0984 - val_accuracy: 0.9700\n",
      "Epoch 3/5\n",
      "25/25 [==============================] - 15s 589ms/step - loss: 0.0498 - accuracy: 0.9862 - val_loss: 0.0969 - val_accuracy: 0.9700\n",
      "Epoch 4/5\n",
      "25/25 [==============================] - 17s 678ms/step - loss: 0.0193 - accuracy: 0.9962 - val_loss: 0.1261 - val_accuracy: 0.9600\n",
      "Epoch 5/5\n",
      "25/25 [==============================] - 15s 610ms/step - loss: 0.0081 - accuracy: 0.9975 - val_loss: 0.1805 - val_accuracy: 0.9450\n"
     ]
    }
   ],
   "source": [
    "# 3. Навчання моделі\n",
    "start_time = time.time()\n",
    "history = model.fit(train_data, epochs=5, validation_data=test_data)\n",
    "train_time = time.time() - start_time"
   ]
  },
  {
   "cell_type": "code",
   "execution_count": 13,
   "metadata": {},
   "outputs": [
    {
     "name": "stdout",
     "output_type": "stream",
     "text": [
      "\n",
      "Classification Report:\n",
      "                          precision    recall  f1-score   support\n",
      "\n",
      "       The_Eiffel_Tower       0.49      0.50      0.50       100\n",
      "The_Great_Wall_of_China       0.49      0.48      0.48       100\n",
      "\n",
      "               accuracy                           0.49       200\n",
      "              macro avg       0.49      0.49      0.49       200\n",
      "           weighted avg       0.49      0.49      0.49       200\n",
      "\n",
      "\n",
      "Confusion Matrix:\n",
      " [[50 50]\n",
      " [52 48]]\n",
      "Модель збережена у файл model.h5\n",
      "Час навчання: 80.94 сек\n",
      "Час тестування: 1.66 сек\n"
     ]
    },
    {
     "data": {
      "text/plain": [
       "<Figure size 1200x500 with 0 Axes>"
      ]
     },
     "metadata": {},
     "output_type": "display_data"
    }
   ],
   "source": [
    "# 6. Метрики оцінювання\n",
    "report = classification_report(y_true, y_pred, target_names=list(test_data.class_indices.keys()))\n",
    "print(\"\\nClassification Report:\\n\", report)\n",
    "\n",
    "conf_matrix = confusion_matrix(y_true, y_pred)\n",
    "print(\"\\nConfusion Matrix:\\n\", conf_matrix)\n",
    "\n",
    "# 7. Збереження моделі\n",
    "model.save('model.h5')\n",
    "print(f\"Модель збережена у файл model.h5\")\n",
    "\n",
    "# 8. Візуалізація метрик навчання\n",
    "plt.figure(figsize=(12, 5))\n",
    "\n",
    "# 9. Виведення часу виконання\n",
    "print(f\"Час навчання: {train_time:.2f} сек\")\n",
    "print(f\"Час тестування: {test_time:.2f} сек\")"
   ]
  }
 ],
 "metadata": {
  "kernelspec": {
   "display_name": "Python 3",
   "language": "python",
   "name": "python3"
  },
  "language_info": {
   "codemirror_mode": {
    "name": "ipython",
    "version": 3
   },
   "file_extension": ".py",
   "mimetype": "text/x-python",
   "name": "python",
   "nbconvert_exporter": "python",
   "pygments_lexer": "ipython3",
   "version": "3.7.9"
  }
 },
 "nbformat": 4,
 "nbformat_minor": 2
}
